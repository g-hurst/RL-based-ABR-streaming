{
 "cells": [
  {
   "cell_type": "markdown",
   "id": "ea01379e-834e-454d-880f-ad9cb95e1754",
   "metadata": {},
   "source": [
    "# Creating an RL Based ABR Streaming Algorithm "
   ]
  },
  {
   "cell_type": "code",
   "execution_count": 7,
   "id": "2521427b-e5ec-41c5-b571-90d9eda20348",
   "metadata": {},
   "outputs": [],
   "source": [
    "import sys\n",
    "import os\n",
    "import argparse"
   ]
  },
  {
   "cell_type": "markdown",
   "id": "997eb775-351a-4502-954e-a8d62ce3ddcd",
   "metadata": {},
   "source": [
    "## Define the RL Enviroment "
   ]
  },
  {
   "cell_type": "code",
   "execution_count": 8,
   "id": "be810f0e-88c2-4ba3-8866-91386b6728bd",
   "metadata": {},
   "outputs": [],
   "source": [
    "import gymnasium as gym\n",
    "\n",
    "class ABR_Env(gym.Env):\n",
    "    def __init__(self):\n",
    "        pass\n",
    "    def step(self, action):\n",
    "        observation = None\n",
    "        reward = 0\n",
    "        terminated = True\n",
    "        truncated = False\n",
    "        info = {}\n",
    "        return observation, reward, terminated, truncated, info\n",
    "    def reset(self, seed=None):\n",
    "        observation = None\n",
    "        info = {}\n",
    "        return observaiton, info"
   ]
  },
  {
   "cell_type": "markdown",
   "id": "6a53af16-6872-4747-99e1-bafc07da1a20",
   "metadata": {},
   "source": [
    "## Train and save several models"
   ]
  },
  {
   "cell_type": "code",
   "execution_count": null,
   "id": "28e03ff9-acb6-451a-a4cd-748cb0c16e41",
   "metadata": {},
   "outputs": [],
   "source": []
  },
  {
   "cell_type": "markdown",
   "id": "de9a7f3f-1c88-4996-8276-40b4dacf68a0",
   "metadata": {},
   "source": [
    "## Test the ABR Algorithm "
   ]
  },
  {
   "cell_type": "code",
   "execution_count": 11,
   "id": "733c4fff-ba58-4803-87b8-06322ac22a98",
   "metadata": {},
   "outputs": [
    {
     "ename": "NameError",
     "evalue": "name 'average_list' is not defined",
     "output_type": "error",
     "traceback": [
      "\u001b[0;31m---------------------------------------------------------------------------\u001b[0m",
      "\u001b[0;31mNameError\u001b[0m                                 Traceback (most recent call last)",
      "Cell \u001b[0;32mIn[11], line 25\u001b[0m\n\u001b[1;32m     20\u001b[0m parser\u001b[38;5;241m.\u001b[39madd_argument(\u001b[38;5;124m'\u001b[39m\u001b[38;5;124m-gp\u001b[39m\u001b[38;5;124m'\u001b[39m, \u001b[38;5;124m'\u001b[39m\u001b[38;5;124m--gamma-p\u001b[39m\u001b[38;5;124m'\u001b[39m, metavar \u001b[38;5;241m=\u001b[39m \u001b[38;5;124m'\u001b[39m\u001b[38;5;124mGAMMAP\u001b[39m\u001b[38;5;124m'\u001b[39m, \u001b[38;5;28mtype\u001b[39m \u001b[38;5;241m=\u001b[39m \u001b[38;5;28mfloat\u001b[39m, default \u001b[38;5;241m=\u001b[39m \u001b[38;5;241m5\u001b[39m,\n\u001b[1;32m     21\u001b[0m                     help \u001b[38;5;241m=\u001b[39m \u001b[38;5;124m'\u001b[39m\u001b[38;5;124mSpecify the (gamma p) product in seconds.\u001b[39m\u001b[38;5;124m'\u001b[39m)\n\u001b[1;32m     22\u001b[0m parser\u001b[38;5;241m.\u001b[39madd_argument(\u001b[38;5;124m'\u001b[39m\u001b[38;5;124m-noibr\u001b[39m\u001b[38;5;124m'\u001b[39m, \u001b[38;5;124m'\u001b[39m\u001b[38;5;124m--no-insufficient-buffer-rule\u001b[39m\u001b[38;5;124m'\u001b[39m, action \u001b[38;5;241m=\u001b[39m \u001b[38;5;124m'\u001b[39m\u001b[38;5;124mstore_true\u001b[39m\u001b[38;5;124m'\u001b[39m,\n\u001b[1;32m     23\u001b[0m                     help \u001b[38;5;241m=\u001b[39m \u001b[38;5;124m'\u001b[39m\u001b[38;5;124mDisable Insufficient Buffer Rule.\u001b[39m\u001b[38;5;124m'\u001b[39m)\n\u001b[1;32m     24\u001b[0m parser\u001b[38;5;241m.\u001b[39madd_argument(\u001b[38;5;124m'\u001b[39m\u001b[38;5;124m-ma\u001b[39m\u001b[38;5;124m'\u001b[39m, \u001b[38;5;124m'\u001b[39m\u001b[38;5;124m--moving-average\u001b[39m\u001b[38;5;124m'\u001b[39m, metavar \u001b[38;5;241m=\u001b[39m \u001b[38;5;124m'\u001b[39m\u001b[38;5;124mAVERAGE\u001b[39m\u001b[38;5;124m'\u001b[39m,\n\u001b[0;32m---> 25\u001b[0m                     choices \u001b[38;5;241m=\u001b[39m \u001b[43maverage_list\u001b[49m\u001b[38;5;241m.\u001b[39mkeys(), default \u001b[38;5;241m=\u001b[39m average_default,\n\u001b[1;32m     26\u001b[0m                     help \u001b[38;5;241m=\u001b[39m \u001b[38;5;124m'\u001b[39m\u001b[38;5;124mSpecify the moving average strategy (\u001b[39m\u001b[38;5;132;01m%s\u001b[39;00m\u001b[38;5;124m).\u001b[39m\u001b[38;5;124m'\u001b[39m \u001b[38;5;241m%\u001b[39m\n\u001b[1;32m     27\u001b[0m                     \u001b[38;5;124m'\u001b[39m\u001b[38;5;124m, \u001b[39m\u001b[38;5;124m'\u001b[39m\u001b[38;5;241m.\u001b[39mjoin(average_list\u001b[38;5;241m.\u001b[39mkeys()))\n\u001b[1;32m     28\u001b[0m parser\u001b[38;5;241m.\u001b[39madd_argument(\u001b[38;5;124m'\u001b[39m\u001b[38;5;124m-ws\u001b[39m\u001b[38;5;124m'\u001b[39m, \u001b[38;5;124m'\u001b[39m\u001b[38;5;124m--window-size\u001b[39m\u001b[38;5;124m'\u001b[39m, metavar \u001b[38;5;241m=\u001b[39m \u001b[38;5;124m'\u001b[39m\u001b[38;5;124mWINDOW_SIZE\u001b[39m\u001b[38;5;124m'\u001b[39m,\n\u001b[1;32m     29\u001b[0m                     nargs \u001b[38;5;241m=\u001b[39m \u001b[38;5;124m'\u001b[39m\u001b[38;5;124m+\u001b[39m\u001b[38;5;124m'\u001b[39m, \u001b[38;5;28mtype\u001b[39m \u001b[38;5;241m=\u001b[39m \u001b[38;5;28mint\u001b[39m, default \u001b[38;5;241m=\u001b[39m [\u001b[38;5;241m3\u001b[39m],\n\u001b[1;32m     30\u001b[0m                     help \u001b[38;5;241m=\u001b[39m \u001b[38;5;124m'\u001b[39m\u001b[38;5;124mSpecify sliding window size.\u001b[39m\u001b[38;5;124m'\u001b[39m)\n\u001b[1;32m     31\u001b[0m parser\u001b[38;5;241m.\u001b[39madd_argument(\u001b[38;5;124m'\u001b[39m\u001b[38;5;124m-hl\u001b[39m\u001b[38;5;124m'\u001b[39m, \u001b[38;5;124m'\u001b[39m\u001b[38;5;124m--half-life\u001b[39m\u001b[38;5;124m'\u001b[39m, metavar \u001b[38;5;241m=\u001b[39m \u001b[38;5;124m'\u001b[39m\u001b[38;5;124mHALF_LIFE\u001b[39m\u001b[38;5;124m'\u001b[39m,\n\u001b[1;32m     32\u001b[0m                     nargs \u001b[38;5;241m=\u001b[39m \u001b[38;5;124m'\u001b[39m\u001b[38;5;124m+\u001b[39m\u001b[38;5;124m'\u001b[39m, \u001b[38;5;28mtype\u001b[39m \u001b[38;5;241m=\u001b[39m \u001b[38;5;28mfloat\u001b[39m, default \u001b[38;5;241m=\u001b[39m [\u001b[38;5;241m3\u001b[39m, \u001b[38;5;241m8\u001b[39m],\n\u001b[1;32m     33\u001b[0m                     help \u001b[38;5;241m=\u001b[39m \u001b[38;5;124m'\u001b[39m\u001b[38;5;124mSpecify EWMA half life.\u001b[39m\u001b[38;5;124m'\u001b[39m)\n",
      "\u001b[0;31mNameError\u001b[0m: name 'average_list' is not defined"
     ]
    }
   ],
   "source": [
    "from sabre import abr_list, average_list\n",
    "parser = argparse.ArgumentParser(description = 'Simulate an ABR session.',\n",
    "                                 formatter_class = argparse.ArgumentDefaultsHelpFormatter)\n",
    "parser.add_argument('-n', '--network', metavar = 'NETWORK', default = 'network.json',\n",
    "                    help = 'Specify the .json file describing the network trace.')\n",
    "parser.add_argument('-nm', '--network-multiplier', metavar = 'MULTIPLIER',\n",
    "                    type = float, default = 1,\n",
    "                    help = 'Multiply throughput by MULTIPLIER.')\n",
    "parser.add_argument('-m', '--movie', metavar = 'MOVIE', default = 'movie.json',\n",
    "                    help = 'Specify the .json file describing the movie chunks.')\n",
    "parser.add_argument('-ml', '--movie-length', metavar = 'LEN', type = float, default = None,\n",
    "                    help = 'Specify the movie length in seconds (use MOVIE length if None).')\n",
    "parser.add_argument('-a', '--abr', metavar = 'ABR',\n",
    "                    default = 'bolae',\n",
    "                    help = 'Choose ABR algorithm from predefined list (%s), or specify .py module to import.' % ', '.join(abr_list.keys()))\n",
    "parser.add_argument('-ab', '--abr-basic', action = 'store_true',\n",
    "                    help = 'Set ABR to BASIC (ABR strategy dependant).')\n",
    "parser.add_argument('-ao', '--abr-osc', action = 'store_true',\n",
    "                    help = 'Set ABR to minimize oscillations.')\n",
    "parser.add_argument('-gp', '--gamma-p', metavar = 'GAMMAP', type = float, default = 5,\n",
    "                    help = 'Specify the (gamma p) product in seconds.')\n",
    "parser.add_argument('-noibr', '--no-insufficient-buffer-rule', action = 'store_true',\n",
    "                    help = 'Disable Insufficient Buffer Rule.')\n",
    "parser.add_argument('-ma', '--moving-average', metavar = 'AVERAGE',\n",
    "                    choices = average_list.keys(), default = average_default,\n",
    "                    help = 'Specify the moving average strategy (%s).' %\n",
    "                    ', '.join(average_list.keys()))\n",
    "parser.add_argument('-ws', '--window-size', metavar = 'WINDOW_SIZE',\n",
    "                    nargs = '+', type = int, default = [3],\n",
    "                    help = 'Specify sliding window size.')\n",
    "parser.add_argument('-hl', '--half-life', metavar = 'HALF_LIFE',\n",
    "                    nargs = '+', type = float, default = [3, 8],\n",
    "                    help = 'Specify EWMA half life.')\n",
    "parser.add_argument('-s', '--seek', nargs = 2, metavar = ('WHEN', 'SEEK'),\n",
    "                    type = float, default = None,\n",
    "                    help = 'Specify when to seek in seconds and where to seek in seconds.')\n",
    "choices = ['none', 'left', 'right']\n",
    "parser.add_argument('-r', '--replace', metavar = 'REPLACEMENT',\n",
    "                    #choices = choices,\n",
    "                    default  =  'none',\n",
    "                    help = 'Set replacement strategy from predefined list (%s), or specify .py module to import.' % ', '.join(choices))\n",
    "parser.add_argument('-b', '--max-buffer', metavar = 'MAXBUFFER', type = float, default = 25,\n",
    "                    help = 'Specify the maximum buffer size in seconds.')\n",
    "parser.add_argument('-noa', '--no-abandon', action = 'store_true',\n",
    "                    help = 'Disable abandonment.')\n",
    "parser.add_argument('-rmp', '--rampup-threshold', metavar = 'THRESHOLD',\n",
    "                    type = int, default = None,\n",
    "                    help = 'Specify at what quality index we are ramped up (None matches network).')\n",
    "parser.add_argument('-v', '--verbose', action = 'store_true',\n",
    "                    help = 'Run in verbose mode.')\n",
    "\n",
    "\n",
    "args = parser.parse_args()    \n",
    "sabre.main(args)"
   ]
  },
  {
   "cell_type": "code",
   "execution_count": null,
   "id": "2701da74-9867-459f-a057-27ca9bfe3c4f",
   "metadata": {},
   "outputs": [],
   "source": []
  }
 ],
 "metadata": {
  "kernelspec": {
   "display_name": ".env",
   "language": "python",
   "name": ".env"
  },
  "language_info": {
   "codemirror_mode": {
    "name": "ipython",
    "version": 3
   },
   "file_extension": ".py",
   "mimetype": "text/x-python",
   "name": "python",
   "nbconvert_exporter": "python",
   "pygments_lexer": "ipython3",
   "version": "3.10.12"
  }
 },
 "nbformat": 4,
 "nbformat_minor": 5
}
