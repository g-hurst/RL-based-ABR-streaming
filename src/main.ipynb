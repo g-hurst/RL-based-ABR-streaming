{
 "cells": [
  {
   "cell_type": "markdown",
   "id": "ea01379e-834e-454d-880f-ad9cb95e1754",
   "metadata": {},
   "source": [
    "# Creating an RL Based ABR Streaming Algorithm "
   ]
  },
  {
   "cell_type": "code",
   "execution_count": 1,
   "id": "2521427b-e5ec-41c5-b571-90d9eda20348",
   "metadata": {},
   "outputs": [],
   "source": [
    "import sys\n",
    "import os\n",
    "import argparse\n",
    "\n",
    "import sabre\n",
    "import gymnasium as gym"
   ]
  },
  {
   "cell_type": "markdown",
   "id": "997eb775-351a-4502-954e-a8d62ce3ddcd",
   "metadata": {},
   "source": [
    "## Define the RL Enviroment "
   ]
  },
  {
   "cell_type": "code",
   "execution_count": 2,
   "id": "be810f0e-88c2-4ba3-8866-91386b6728bd",
   "metadata": {},
   "outputs": [],
   "source": [
    "class Emulator:\n",
    "    def __init__(self, movie, network):\n",
    "        # load the movie and create the manifest\n",
    "        manifest = sabre.json_load(movie)\n",
    "        l1 = len(manifest['segment_sizes_bits'])\n",
    "        l2 = math.ceil(args.movie_length * 1000 / manifest['segment_duration_ms'])\n",
    "        manifest['segment_sizes_bits'] *= math.ceil(l2 / l1)                                      \n",
    "        manifest['segment_sizes_bits'] = manifest['segment_sizes_bits'][0:l2]\n",
    "        self.manifest = sabre.ManifestInfo(segment_time = manifest['segment_duration_ms'], \n",
    "                                     bitrates     = bitrates,                                              \n",
    "                                     utilities    = utilities, \n",
    "                                     segments     = manifest['segment_sizes_bits'])\n",
    "        # load and save the network trace\n",
    "        network_trace = sabre.load_json(network)\n",
    "        self.network_trace = [sabre.NetworkPeriod(time = p['duration_ms'],                                  \n",
    "                                       bandwidth = p['bandwidth_kbps'],     \n",
    "                                       latency   = p['latency_ms'])                                   \n",
    "                                       for p in network_trace] \n",
    "\n",
    "class ABR_Env(gym.Env):\n",
    "    def __init__(self):\n",
    "        pass\n",
    "    def step(self, action):\n",
    "        observation = None\n",
    "        reward = 0\n",
    "        terminated = True\n",
    "        truncated = False\n",
    "        info = {}\n",
    "        return observation, reward, terminated, truncated, info\n",
    "    def reset(self, seed=None):\n",
    "        observation = None\n",
    "        info = {}\n",
    "        return observaiton, info"
   ]
  },
  {
   "cell_type": "markdown",
   "id": "6a53af16-6872-4747-99e1-bafc07da1a20",
   "metadata": {},
   "source": [
    "## Train and save several models"
   ]
  },
  {
   "cell_type": "code",
   "execution_count": null,
   "id": "28e03ff9-acb6-451a-a4cd-748cb0c16e41",
   "metadata": {},
   "outputs": [],
   "source": []
  },
  {
   "cell_type": "markdown",
   "id": "de9a7f3f-1c88-4996-8276-40b4dacf68a0",
   "metadata": {},
   "source": [
    "## Test the ABR Algorithm "
   ]
  },
  {
   "cell_type": "markdown",
   "id": "f8aab492-9a3a-4028-8c02-e57c8dc0dbfe",
   "metadata": {},
   "source": [
    "The argparse arguments were copied and pased from the modified `sabre.py` file. Note, minor changes were made where any variable that was used had to be changed to sabre.var_name. "
   ]
  },
  {
   "cell_type": "code",
   "execution_count": 3,
   "id": "733c4fff-ba58-4803-87b8-06322ac22a98",
   "metadata": {},
   "outputs": [
    {
     "data": {
      "text/plain": [
       "_StoreTrueAction(option_strings=['-v', '--verbose'], dest='verbose', nargs=0, const=True, default=False, type=None, choices=None, required=False, help='Run in verbose mode.', metavar=None)"
      ]
     },
     "execution_count": 3,
     "metadata": {},
     "output_type": "execute_result"
    }
   ],
   "source": [
    "parser = argparse.ArgumentParser(description = 'Simulate an ABR session.',\n",
    "                                 formatter_class = argparse.ArgumentDefaultsHelpFormatter)\n",
    "parser.add_argument('-n', '--network', metavar = 'NETWORK', default = 'network.json',\n",
    "                    help = 'Specify the .json file describing the network trace.')\n",
    "parser.add_argument('-nm', '--network-multiplier', metavar = 'MULTIPLIER',\n",
    "                    type = float, default = 1,\n",
    "                    help = 'Multiply throughput by MULTIPLIER.')\n",
    "parser.add_argument('-m', '--movie', metavar = 'MOVIE', default = 'movie.json',\n",
    "                    help = 'Specify the .json file describing the movie chunks.')\n",
    "parser.add_argument('-ml', '--movie-length', metavar = 'LEN', type = float, default = None,\n",
    "                    help = 'Specify the movie length in seconds (use MOVIE length if None).')\n",
    "parser.add_argument('-a', '--abr', metavar = 'ABR',\n",
    "                    default = sabre.abr_default,\n",
    "                    help = 'Choose ABR algorithm from predefined list (%s), or specify .py module to import.' % ', '.join(sabre.abr_list.keys()))\n",
    "parser.add_argument('-ab', '--abr-basic', action = 'store_true',\n",
    "                    help = 'Set ABR to BASIC (ABR strategy dependant).')\n",
    "parser.add_argument('-ao', '--abr-osc', action = 'store_true',\n",
    "                    help = 'Set ABR to minimize oscillations.')\n",
    "parser.add_argument('-gp', '--gamma-p', metavar = 'GAMMAP', type = float, default = 5,\n",
    "                    help = 'Specify the (gamma p) product in seconds.')\n",
    "parser.add_argument('-noibr', '--no-insufficient-buffer-rule', action = 'store_true',\n",
    "                    help = 'Disable Insufficient Buffer Rule.')\n",
    "parser.add_argument('-ma', '--moving-average', metavar = 'AVERAGE',\n",
    "                    choices = sabre.average_list.keys(), default = sabre.average_default,\n",
    "                    help = 'Specify the moving average strategy (%s).' %\n",
    "                    ', '.join(sabre.average_list.keys()))\n",
    "parser.add_argument('-ws', '--window-size', metavar = 'WINDOW_SIZE',\n",
    "                    nargs = '+', type = int, default = [3],\n",
    "                    help = 'Specify sliding window size.')\n",
    "parser.add_argument('-hl', '--half-life', metavar = 'HALF_LIFE',\n",
    "                    nargs = '+', type = float, default = [3, 8],\n",
    "                    help = 'Specify EWMA half life.')\n",
    "parser.add_argument('-s', '--seek', nargs = 2, metavar = ('WHEN', 'SEEK'),\n",
    "                    type = float, default = None,\n",
    "                    help = 'Specify when to seek in seconds and where to seek in seconds.')\n",
    "choices = ['none', 'left', 'right']\n",
    "parser.add_argument('-r', '--replace', metavar = 'REPLACEMENT',\n",
    "                    #choices = choices,\n",
    "                    default  =  'none',\n",
    "                    help = 'Set replacement strategy from predefined list (%s), or specify .py module to import.' % ', '.join(choices))\n",
    "parser.add_argument('-b', '--max-buffer', metavar = 'MAXBUFFER', type = float, default = 25,\n",
    "                    help = 'Specify the maximum buffer size in seconds.')\n",
    "parser.add_argument('-noa', '--no-abandon', action = 'store_true',\n",
    "                    help = 'Disable abandonment.')\n",
    "parser.add_argument('-rmp', '--rampup-threshold', metavar = 'THRESHOLD',\n",
    "                    type = int, default = None,\n",
    "                    help = 'Specify at what quality index we are ramped up (None matches network).')\n",
    "parser.add_argument('-v', '--verbose', action = 'store_true',\n",
    "                    help = 'Run in verbose mode.')"
   ]
  },
  {
   "cell_type": "code",
   "execution_count": 4,
   "id": "2701da74-9867-459f-a057-27ca9bfe3c4f",
   "metadata": {},
   "outputs": [
    {
     "name": "stdout",
     "output_type": "stream",
     "text": [
      "buffer size: 25000\n",
      "total played utility: 0.000000\n",
      "time average played utility: 0.000000\n",
      "total played bitrate: 45770.000000\n",
      "time average played bitrate: 229.742050\n",
      "total play time: 597.670301\n",
      "total play time chunks: 199.223434\n",
      "total rebuffer: 0.000000\n",
      "rebuffer ratio: 0.000000\n",
      "time average rebuffer: 0.000000\n",
      "total rebuffer events: 0.000000\n",
      "time average rebuffer events: 0.000000\n",
      "total bitrate change: 0.000000\n",
      "time average bitrate change: 0.000000\n",
      "total log bitrate change: 0.000000\n",
      "time average log bitrate change: 0.000000\n",
      "time average score: 0.000000\n",
      "over estimate count: 56\n",
      "over estimate: 1910.031664\n",
      "leq estimate count: 142\n",
      "leq estimate: 16120.045513\n",
      "estimate: -11020.629746\n",
      "rampup time: 597.000000\n",
      "total reaction time: 95.000000\n"
     ]
    }
   ],
   "source": [
    "# note: the file paths must be relative to the sabre.py file, not this one\n",
    "abr_filename     = 'ABR_Zero.py'\n",
    "movie_filename   = '../data/bbb.json'\n",
    "network_filename = '../data/hd_fs/trace0000.json'\n",
    "\n",
    "# parse the args for sabre to run. This would normally be done via cli, but it is convienient here to do in the notebook\n",
    "args = parser.parse_args([\n",
    "    '--abr', abr_filename,\n",
    "    '--movie', movie_filename,\n",
    "    '--network', network_filename\n",
    "])\n",
    "sabre.main(args)"
   ]
  },
  {
   "cell_type": "code",
   "execution_count": null,
   "id": "cc87aaae-1bb0-4351-9818-9e19d6232bd0",
   "metadata": {},
   "outputs": [],
   "source": []
  }
 ],
 "metadata": {
  "kernelspec": {
   "display_name": ".env",
   "language": "python",
   "name": ".env"
  },
  "language_info": {
   "codemirror_mode": {
    "name": "ipython",
    "version": 3
   },
   "file_extension": ".py",
   "mimetype": "text/x-python",
   "name": "python",
   "nbconvert_exporter": "python",
   "pygments_lexer": "ipython3",
   "version": "3.10.12"
  }
 },
 "nbformat": 4,
 "nbformat_minor": 5
}
