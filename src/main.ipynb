{
 "cells": [
  {
   "cell_type": "markdown",
   "id": "ea01379e-834e-454d-880f-ad9cb95e1754",
   "metadata": {},
   "source": [
    "# Creating an RL Based ABR Streaming Algorithm "
   ]
  },
  {
   "cell_type": "code",
   "execution_count": 1,
   "id": "2521427b-e5ec-41c5-b571-90d9eda20348",
   "metadata": {},
   "outputs": [],
   "source": [
    "import sys\n",
    "import os"
   ]
  },
  {
   "cell_type": "markdown",
   "id": "0a4b884f-c383-479b-9ead-33ace6eb4ead",
   "metadata": {},
   "source": [
    "## Create an Class that Extends the Sabre ABR Class"
   ]
  },
  {
   "cell_type": "code",
   "execution_count": 12,
   "id": "a112b0cb-90b8-4bb0-9b14-ece754af3119",
   "metadata": {},
   "outputs": [],
   "source": [
    "# check that the sabre file exists\n",
    "assert os.path.exists('./sabre.py')\n",
    "import sabre\n",
    "\n",
    "class RL_ABR(sabre.Abr):\n",
    "    # class method to overload that selects the next bitrate\n",
    "    def get_quality_delay(self, segment_index:int) -> tuple:\n",
    "        quality = 0\n",
    "        delay = 0\n",
    "        return (quality, delay)\n",
    "\n",
    "        "
   ]
  },
  {
   "cell_type": "markdown",
   "id": "997eb775-351a-4502-954e-a8d62ce3ddcd",
   "metadata": {},
   "source": [
    "## Define the RL Enviroment "
   ]
  },
  {
   "cell_type": "code",
   "execution_count": null,
   "id": "be810f0e-88c2-4ba3-8866-91386b6728bd",
   "metadata": {},
   "outputs": [],
   "source": [
    "import gymnasium as gym\n",
    "\n",
    "class ABR_Env(gym.Environment):\n",
    "    def __init__(self):\n",
    "        pass\n",
    "    def step(self, action):\n",
    "        observation = None\n",
    "        reward = 0\n",
    "        terminated = True\n",
    "        truncated = False\n",
    "        info = {}\n",
    "        return observation, reward, terminated, truncated, info\n",
    "    def reset(self, seed: Optional[int] = None, options: Optional[dict] = None):\n",
    "        observation = None\n",
    "        info = {}\n",
    "        return observaiton, info"
   ]
  },
  {
   "cell_type": "markdown",
   "id": "de9a7f3f-1c88-4996-8276-40b4dacf68a0",
   "metadata": {},
   "source": [
    "## Test the ABR Algorithm "
   ]
  },
  {
   "cell_type": "code",
   "execution_count": 3,
   "id": "733c4fff-ba58-4803-87b8-06322ac22a98",
   "metadata": {},
   "outputs": [
    {
     "ename": "NameError",
     "evalue": "name 'argparse' is not defined",
     "output_type": "error",
     "traceback": [
      "\u001b[0;31m---------------------------------------------------------------------------\u001b[0m",
      "\u001b[0;31mNameError\u001b[0m                                 Traceback (most recent call last)",
      "Cell \u001b[0;32mIn[3], line 1\u001b[0m\n\u001b[0;32m----> 1\u001b[0m parser \u001b[38;5;241m=\u001b[39m \u001b[43margparse\u001b[49m\u001b[38;5;241m.\u001b[39mArgumentParser(description \u001b[38;5;241m=\u001b[39m \u001b[38;5;124m'\u001b[39m\u001b[38;5;124mSimulate an ABR session.\u001b[39m\u001b[38;5;124m'\u001b[39m,\n\u001b[1;32m      2\u001b[0m                                  formatter_class \u001b[38;5;241m=\u001b[39m argparse\u001b[38;5;241m.\u001b[39mArgumentDefaultsHelpFormatter)\n\u001b[1;32m      3\u001b[0m parser\u001b[38;5;241m.\u001b[39madd_argument(\u001b[38;5;124m'\u001b[39m\u001b[38;5;124m-n\u001b[39m\u001b[38;5;124m'\u001b[39m, \u001b[38;5;124m'\u001b[39m\u001b[38;5;124m--network\u001b[39m\u001b[38;5;124m'\u001b[39m, metavar \u001b[38;5;241m=\u001b[39m \u001b[38;5;124m'\u001b[39m\u001b[38;5;124mNETWORK\u001b[39m\u001b[38;5;124m'\u001b[39m, default \u001b[38;5;241m=\u001b[39m \u001b[38;5;124m'\u001b[39m\u001b[38;5;124mnetwork.json\u001b[39m\u001b[38;5;124m'\u001b[39m,\n\u001b[1;32m      4\u001b[0m                     help \u001b[38;5;241m=\u001b[39m \u001b[38;5;124m'\u001b[39m\u001b[38;5;124mSpecify the .json file describing the network trace.\u001b[39m\u001b[38;5;124m'\u001b[39m)\n\u001b[1;32m      5\u001b[0m parser\u001b[38;5;241m.\u001b[39madd_argument(\u001b[38;5;124m'\u001b[39m\u001b[38;5;124m-nm\u001b[39m\u001b[38;5;124m'\u001b[39m, \u001b[38;5;124m'\u001b[39m\u001b[38;5;124m--network-multiplier\u001b[39m\u001b[38;5;124m'\u001b[39m, metavar \u001b[38;5;241m=\u001b[39m \u001b[38;5;124m'\u001b[39m\u001b[38;5;124mMULTIPLIER\u001b[39m\u001b[38;5;124m'\u001b[39m,\n\u001b[1;32m      6\u001b[0m                     \u001b[38;5;28mtype\u001b[39m \u001b[38;5;241m=\u001b[39m \u001b[38;5;28mfloat\u001b[39m, default \u001b[38;5;241m=\u001b[39m \u001b[38;5;241m1\u001b[39m,\n\u001b[1;32m      7\u001b[0m                     help \u001b[38;5;241m=\u001b[39m \u001b[38;5;124m'\u001b[39m\u001b[38;5;124mMultiply throughput by MULTIPLIER.\u001b[39m\u001b[38;5;124m'\u001b[39m)\n",
      "\u001b[0;31mNameError\u001b[0m: name 'argparse' is not defined"
     ]
    }
   ],
   "source": [
    "parser = argparse.ArgumentParser(description = 'Simulate an ABR session.',\n",
    "                                 formatter_class = argparse.ArgumentDefaultsHelpFormatter)\n",
    "parser.add_argument('-n', '--network', metavar = 'NETWORK', default = 'network.json',\n",
    "                    help = 'Specify the .json file describing the network trace.')\n",
    "parser.add_argument('-nm', '--network-multiplier', metavar = 'MULTIPLIER',\n",
    "                    type = float, default = 1,\n",
    "                    help = 'Multiply throughput by MULTIPLIER.')\n",
    "parser.add_argument('-m', '--movie', metavar = 'MOVIE', default = 'movie.json',\n",
    "                    help = 'Specify the .json file describing the movie chunks.')\n",
    "parser.add_argument('-ml', '--movie-length', metavar = 'LEN', type = float, default = None,\n",
    "                    help = 'Specify the movie length in seconds (use MOVIE length if None).')\n",
    "parser.add_argument('-a', '--abr', metavar = 'ABR',\n",
    "                    #choices = abr_list.keys(),\n",
    "                    default = abr_default,\n",
    "                    help = 'Choose ABR algorithm from predefined list (%s), or specify .py module to import.' % ', '.join(abr_list.keys()))\n",
    "parser.add_argument('-ab', '--abr-basic', action = 'store_true',\n",
    "                    help = 'Set ABR to BASIC (ABR strategy dependant).')\n",
    "parser.add_argument('-ao', '--abr-osc', action = 'store_true',\n",
    "                    help = 'Set ABR to minimize oscillations.')\n",
    "parser.add_argument('-gp', '--gamma-p', metavar = 'GAMMAP', type = float, default = 5,\n",
    "                    help = 'Specify the (gamma p) product in seconds.')\n",
    "parser.add_argument('-noibr', '--no-insufficient-buffer-rule', action = 'store_true',\n",
    "                    help = 'Disable Insufficient Buffer Rule.')\n",
    "parser.add_argument('-ma', '--moving-average', metavar = 'AVERAGE',\n",
    "                    choices = average_list.keys(), default = average_default,\n",
    "                    help = 'Specify the moving average strategy (%s).' %\n",
    "                    ', '.join(average_list.keys()))\n",
    "parser.add_argument('-ws', '--window-size', metavar = 'WINDOW_SIZE',\n",
    "                    nargs = '+', type = int, default = [3],\n",
    "                    help = 'Specify sliding window size.')\n",
    "parser.add_argument('-hl', '--half-life', metavar = 'HALF_LIFE',\n",
    "                    nargs = '+', type = float, default = [3, 8],\n",
    "                    help = 'Specify EWMA half life.')\n",
    "parser.add_argument('-s', '--seek', nargs = 2, metavar = ('WHEN', 'SEEK'),\n",
    "                    type = float, default = None,\n",
    "                    help = 'Specify when to seek in seconds and where to seek in seconds.')\n",
    "choices = ['none', 'left', 'right']\n",
    "parser.add_argument('-r', '--replace', metavar = 'REPLACEMENT',\n",
    "                    #choices = choices,\n",
    "                    default  =  'none',\n",
    "                    help = 'Set replacement strategy from predefined list (%s), or specify .py module to import.' % ', '.join(choices))\n",
    "parser.add_argument('-b', '--max-buffer', metavar = 'MAXBUFFER', type = float, default = 25,\n",
    "                    help = 'Specify the maximum buffer size in seconds.')\n",
    "parser.add_argument('-noa', '--no-abandon', action = 'store_true',\n",
    "                    help = 'Disable abandonment.')\n",
    "parser.add_argument('-rmp', '--rampup-threshold', metavar = 'THRESHOLD',\n",
    "                    type = int, default = None,\n",
    "                    help = 'Specify at what quality index we are ramped up (None matches network).')\n",
    "parser.add_argument('-v', '--verbose', action = 'store_true',\n",
    "                    help = 'Run in verbose mode.')\n",
    "\n",
    "\n",
    "args = parser.parse_args()    \n",
    "sabre.main(args)"
   ]
  },
  {
   "cell_type": "code",
   "execution_count": null,
   "id": "2701da74-9867-459f-a057-27ca9bfe3c4f",
   "metadata": {},
   "outputs": [],
   "source": []
  }
 ],
 "metadata": {
  "kernelspec": {
   "display_name": ".env",
   "language": "python",
   "name": ".env"
  },
  "language_info": {
   "codemirror_mode": {
    "name": "ipython",
    "version": 3
   },
   "file_extension": ".py",
   "mimetype": "text/x-python",
   "name": "python",
   "nbconvert_exporter": "python",
   "pygments_lexer": "ipython3",
   "version": "3.10.12"
  }
 },
 "nbformat": 4,
 "nbformat_minor": 5
}
